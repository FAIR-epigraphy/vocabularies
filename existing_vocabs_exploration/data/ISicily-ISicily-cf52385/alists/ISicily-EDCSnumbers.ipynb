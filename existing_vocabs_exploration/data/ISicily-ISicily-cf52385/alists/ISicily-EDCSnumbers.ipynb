{
 "cells": [
  {
   "cell_type": "code",
   "execution_count": null,
   "metadata": {},
   "outputs": [],
   "source": [
    "#add content in <idno type=\"EDCS\"/> from csv\n",
    "# NB! REPLACE DIRECTORY PATHS AS APPROPRIATE\n",
    "\n",
    "import os\n",
    "import csv\n",
    "import glob\n",
    "import re\n",
    "\n",
    "edcsmatch = {}\n",
    "with open(\"/Users/simonastoyanova/Desktop/EDCS-test/isicily-edcs.csv\", \"r\") as file:\n",
    "    content = csv.reader(file)\n",
    "    for row in content:\n",
    "        edcsmatch[row[0]] = row[1]\n",
    "    \n",
    "\n",
    "\n",
    "def additions():\n",
    "    '''replaces <idno type=\"EDCS\"/> with idno containing the EDCS number based on ISic ids matching in the csv'''\n",
    "    for file in glob.glob(\"/Users/simonastoyanova/Desktop/ISicily/inscriptions/*.xml\"):\n",
    "        infile = open(file, \"r\")\n",
    "        contents = infile.read()\n",
    "        \n",
    "            \n",
    "        oldedcs = re.findall('<idno type=\"EDCS\"/>', contents)\n",
    "        for i in oldedcs:\n",
    "            oldstr = i\n",
    "        \n",
    "        filename = re.findall('<idno type=\"filename\">(.*?)</idno>', contents)\n",
    "        for x in filename:\n",
    "            if x in edcsmatch.keys():\n",
    "                newedcs = edcsmatch[x]\n",
    "                \n",
    "                oldsrt = '<idno type=\"EDCS\"/>'\n",
    "                newstr = '<idno type=\"EDCS\">' + newedcs + '</idno>'\n",
    "                contents = contents.replace(oldstr, newstr)\n",
    "                \n",
    "            else:\n",
    "                print('ERROR ' + x + ' not in isicily-edcs.csv!')\n",
    "        \n",
    "        \n",
    "        \n",
    "    \n",
    "        outfile = open(file, \"w\")\n",
    "        outfile.write(contents)\n",
    "        outfile.close()\n",
    "    print('all EDCS idnos added, files overwritten')\n",
    "\n",
    "\n",
    "additions()"
   ]
  },
  {
   "cell_type": "code",
   "execution_count": null,
   "metadata": {},
   "outputs": [],
   "source": []
  },
  {
   "cell_type": "code",
   "execution_count": null,
   "metadata": {},
   "outputs": [],
   "source": []
  }
 ],
 "metadata": {
  "kernelspec": {
   "display_name": "Python 3",
   "language": "python",
   "name": "python3"
  },
  "language_info": {
   "codemirror_mode": {
    "name": "ipython",
    "version": 3
   },
   "file_extension": ".py",
   "mimetype": "text/x-python",
   "name": "python",
   "nbconvert_exporter": "python",
   "pygments_lexer": "ipython3",
   "version": "3.9.0"
  },
  "toc": {
   "nav_menu": {},
   "number_sections": false,
   "sideBar": false,
   "skip_h1_title": false,
   "title_cell": "Table of Contents",
   "title_sidebar": "Contents",
   "toc_cell": false,
   "toc_position": {
    "height": "48px",
    "left": "1163px",
    "top": "107.133px",
    "width": "159px"
   },
   "toc_section_display": false,
   "toc_window_display": true
  }
 },
 "nbformat": 4,
 "nbformat_minor": 2
}
